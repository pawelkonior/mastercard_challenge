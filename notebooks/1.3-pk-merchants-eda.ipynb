{
 "cells": [
  {
   "metadata": {},
   "cell_type": "markdown",
   "source": [
    "# Merchant EDA – Univariate & Multivariate\n",
    "Goal: Analyze merchant-level attributes and their relationship with historical fraud\n"
   ],
   "id": "bee738f599b57fe1"
  },
  {
   "cell_type": "code",
   "id": "initial_id",
   "metadata": {
    "collapsed": true,
    "ExecuteTime": {
     "end_time": "2025-05-16T16:10:25.351374Z",
     "start_time": "2025-05-16T16:10:25.349233Z"
    }
   },
   "source": [
    "from pathlib import Path\n",
    "\n",
    "import pandas as pd\n",
    "import matplotlib.pyplot as plt\n",
    "import seaborn as sns\n",
    "import numpy as np\n",
    "\n",
    "from mastercard_challenge.visualization.visualize import dist_visualisation, plot_categorical_distributions"
   ],
   "outputs": [],
   "execution_count": 2
  },
  {
   "metadata": {
    "ExecuteTime": {
     "end_time": "2025-05-16T16:10:41.564793Z",
     "start_time": "2025-05-16T16:10:41.562035Z"
    }
   },
   "cell_type": "code",
   "source": [
    "sns.set_style(\"whitegrid\")\n",
    "plt.rcParams[\"figure.figsize\"] = (12, 6)\n",
    "\n",
    "DATA_PROCESSED_DIR = Path(\"../data/processed\")\n",
    "DATA_INTERIM_DIR = Path(\"../data/interim\")"
   ],
   "id": "671908da0b9af89c",
   "outputs": [],
   "execution_count": 3
  },
  {
   "metadata": {
    "ExecuteTime": {
     "end_time": "2025-05-16T16:10:55.684268Z",
     "start_time": "2025-05-16T16:10:55.623856Z"
    }
   },
   "cell_type": "code",
   "source": "df = pd.read_parquet(DATA_PROCESSED_DIR / \"merchants.parquet\")",
   "id": "97cb369cfed67fdd",
   "outputs": [],
   "execution_count": 4
  },
  {
   "metadata": {
    "ExecuteTime": {
     "end_time": "2025-05-16T16:24:18.040028Z",
     "start_time": "2025-05-16T16:24:18.037966Z"
    }
   },
   "cell_type": "code",
   "source": "print(\"Initial shape:\", df.shape)",
   "id": "416752dd6909f510",
   "outputs": [
    {
     "name": "stdout",
     "output_type": "stream",
     "text": [
      "Initial shape: (1000, 8)\n"
     ]
    }
   ],
   "execution_count": 10
  },
  {
   "metadata": {
    "ExecuteTime": {
     "end_time": "2025-05-16T16:10:59.941727Z",
     "start_time": "2025-05-16T16:10:59.935837Z"
    }
   },
   "cell_type": "code",
   "source": "df.info()",
   "id": "750bc427d65b4cf5",
   "outputs": [
    {
     "name": "stdout",
     "output_type": "stream",
     "text": [
      "<class 'pandas.core.frame.DataFrame'>\n",
      "RangeIndex: 1000 entries, 0 to 999\n",
      "Data columns (total 8 columns):\n",
      " #   Column                          Non-Null Count  Dtype  \n",
      "---  ------                          --------------  -----  \n",
      " 0   merchant_id                     1000 non-null   object \n",
      " 1   category                        1000 non-null   object \n",
      " 2   country                         1000 non-null   object \n",
      " 3   trust_score                     1000 non-null   float64\n",
      " 4   number_of_alerts_last_6_months  1000 non-null   int64  \n",
      " 5   avg_transaction_amount          1000 non-null   float64\n",
      " 6   account_age_months              1000 non-null   int64  \n",
      " 7   has_fraud_history               1000 non-null   int64  \n",
      "dtypes: float64(2), int64(3), object(3)\n",
      "memory usage: 62.6+ KB\n"
     ]
    }
   ],
   "execution_count": 5
  },
  {
   "metadata": {
    "ExecuteTime": {
     "end_time": "2025-05-16T16:11:16.304818Z",
     "start_time": "2025-05-16T16:11:16.294884Z"
    }
   },
   "cell_type": "code",
   "source": "df.head()",
   "id": "65bb46c6e67926cf",
   "outputs": [
    {
     "data": {
      "text/plain": [
       "  merchant_id     category         country  trust_score  \\\n",
       "0       M0001       travel         Austria     1.000000   \n",
       "1       M0002     clothing          Poland     0.689695   \n",
       "2       M0003  electronics  Czech Republic     0.834610   \n",
       "3       M0004  electronics         Belgium     0.607229   \n",
       "4       M0005      grocery         Ireland     0.641901   \n",
       "\n",
       "   number_of_alerts_last_6_months  avg_transaction_amount  account_age_months  \\\n",
       "0                               3                   97.23                  84   \n",
       "1                               2                  142.71                  93   \n",
       "2                               5                   67.83                  65   \n",
       "3                               1                   16.77                   9   \n",
       "4                               2                   38.56                 100   \n",
       "\n",
       "   has_fraud_history  \n",
       "0                  0  \n",
       "1                  1  \n",
       "2                  0  \n",
       "3                  1  \n",
       "4                  0  "
      ],
      "text/html": [
       "<div>\n",
       "<style scoped>\n",
       "    .dataframe tbody tr th:only-of-type {\n",
       "        vertical-align: middle;\n",
       "    }\n",
       "\n",
       "    .dataframe tbody tr th {\n",
       "        vertical-align: top;\n",
       "    }\n",
       "\n",
       "    .dataframe thead th {\n",
       "        text-align: right;\n",
       "    }\n",
       "</style>\n",
       "<table border=\"1\" class=\"dataframe\">\n",
       "  <thead>\n",
       "    <tr style=\"text-align: right;\">\n",
       "      <th></th>\n",
       "      <th>merchant_id</th>\n",
       "      <th>category</th>\n",
       "      <th>country</th>\n",
       "      <th>trust_score</th>\n",
       "      <th>number_of_alerts_last_6_months</th>\n",
       "      <th>avg_transaction_amount</th>\n",
       "      <th>account_age_months</th>\n",
       "      <th>has_fraud_history</th>\n",
       "    </tr>\n",
       "  </thead>\n",
       "  <tbody>\n",
       "    <tr>\n",
       "      <th>0</th>\n",
       "      <td>M0001</td>\n",
       "      <td>travel</td>\n",
       "      <td>Austria</td>\n",
       "      <td>1.000000</td>\n",
       "      <td>3</td>\n",
       "      <td>97.23</td>\n",
       "      <td>84</td>\n",
       "      <td>0</td>\n",
       "    </tr>\n",
       "    <tr>\n",
       "      <th>1</th>\n",
       "      <td>M0002</td>\n",
       "      <td>clothing</td>\n",
       "      <td>Poland</td>\n",
       "      <td>0.689695</td>\n",
       "      <td>2</td>\n",
       "      <td>142.71</td>\n",
       "      <td>93</td>\n",
       "      <td>1</td>\n",
       "    </tr>\n",
       "    <tr>\n",
       "      <th>2</th>\n",
       "      <td>M0003</td>\n",
       "      <td>electronics</td>\n",
       "      <td>Czech Republic</td>\n",
       "      <td>0.834610</td>\n",
       "      <td>5</td>\n",
       "      <td>67.83</td>\n",
       "      <td>65</td>\n",
       "      <td>0</td>\n",
       "    </tr>\n",
       "    <tr>\n",
       "      <th>3</th>\n",
       "      <td>M0004</td>\n",
       "      <td>electronics</td>\n",
       "      <td>Belgium</td>\n",
       "      <td>0.607229</td>\n",
       "      <td>1</td>\n",
       "      <td>16.77</td>\n",
       "      <td>9</td>\n",
       "      <td>1</td>\n",
       "    </tr>\n",
       "    <tr>\n",
       "      <th>4</th>\n",
       "      <td>M0005</td>\n",
       "      <td>grocery</td>\n",
       "      <td>Ireland</td>\n",
       "      <td>0.641901</td>\n",
       "      <td>2</td>\n",
       "      <td>38.56</td>\n",
       "      <td>100</td>\n",
       "      <td>0</td>\n",
       "    </tr>\n",
       "  </tbody>\n",
       "</table>\n",
       "</div>"
      ]
     },
     "execution_count": 6,
     "metadata": {},
     "output_type": "execute_result"
    }
   ],
   "execution_count": 6
  },
  {
   "metadata": {
    "ExecuteTime": {
     "end_time": "2025-05-16T16:13:09.321658Z",
     "start_time": "2025-05-16T16:13:09.314681Z"
    }
   },
   "cell_type": "code",
   "source": "df.describe()",
   "id": "b5b76943428ca25e",
   "outputs": [
    {
     "data": {
      "text/plain": [
       "       trust_score  number_of_alerts_last_6_months  avg_transaction_amount  \\\n",
       "count  1000.000000                      1000.00000             1000.000000   \n",
       "mean      0.682568                         3.06100               81.883090   \n",
       "std       0.194092                         1.72286               79.187529   \n",
       "min       0.000000                         0.00000                0.120000   \n",
       "25%       0.545615                         2.00000               24.772500   \n",
       "50%       0.697414                         3.00000               58.205000   \n",
       "75%       0.825599                         4.00000              117.192500   \n",
       "max       1.000000                         9.00000              709.040000   \n",
       "\n",
       "       account_age_months  has_fraud_history  \n",
       "count         1000.000000         1000.00000  \n",
       "mean            61.526000            0.52000  \n",
       "std             33.453617            0.49985  \n",
       "min              6.000000            0.00000  \n",
       "25%             32.000000            0.00000  \n",
       "50%             61.000000            1.00000  \n",
       "75%             92.000000            1.00000  \n",
       "max            119.000000            1.00000  "
      ],
      "text/html": [
       "<div>\n",
       "<style scoped>\n",
       "    .dataframe tbody tr th:only-of-type {\n",
       "        vertical-align: middle;\n",
       "    }\n",
       "\n",
       "    .dataframe tbody tr th {\n",
       "        vertical-align: top;\n",
       "    }\n",
       "\n",
       "    .dataframe thead th {\n",
       "        text-align: right;\n",
       "    }\n",
       "</style>\n",
       "<table border=\"1\" class=\"dataframe\">\n",
       "  <thead>\n",
       "    <tr style=\"text-align: right;\">\n",
       "      <th></th>\n",
       "      <th>trust_score</th>\n",
       "      <th>number_of_alerts_last_6_months</th>\n",
       "      <th>avg_transaction_amount</th>\n",
       "      <th>account_age_months</th>\n",
       "      <th>has_fraud_history</th>\n",
       "    </tr>\n",
       "  </thead>\n",
       "  <tbody>\n",
       "    <tr>\n",
       "      <th>count</th>\n",
       "      <td>1000.000000</td>\n",
       "      <td>1000.00000</td>\n",
       "      <td>1000.000000</td>\n",
       "      <td>1000.000000</td>\n",
       "      <td>1000.00000</td>\n",
       "    </tr>\n",
       "    <tr>\n",
       "      <th>mean</th>\n",
       "      <td>0.682568</td>\n",
       "      <td>3.06100</td>\n",
       "      <td>81.883090</td>\n",
       "      <td>61.526000</td>\n",
       "      <td>0.52000</td>\n",
       "    </tr>\n",
       "    <tr>\n",
       "      <th>std</th>\n",
       "      <td>0.194092</td>\n",
       "      <td>1.72286</td>\n",
       "      <td>79.187529</td>\n",
       "      <td>33.453617</td>\n",
       "      <td>0.49985</td>\n",
       "    </tr>\n",
       "    <tr>\n",
       "      <th>min</th>\n",
       "      <td>0.000000</td>\n",
       "      <td>0.00000</td>\n",
       "      <td>0.120000</td>\n",
       "      <td>6.000000</td>\n",
       "      <td>0.00000</td>\n",
       "    </tr>\n",
       "    <tr>\n",
       "      <th>25%</th>\n",
       "      <td>0.545615</td>\n",
       "      <td>2.00000</td>\n",
       "      <td>24.772500</td>\n",
       "      <td>32.000000</td>\n",
       "      <td>0.00000</td>\n",
       "    </tr>\n",
       "    <tr>\n",
       "      <th>50%</th>\n",
       "      <td>0.697414</td>\n",
       "      <td>3.00000</td>\n",
       "      <td>58.205000</td>\n",
       "      <td>61.000000</td>\n",
       "      <td>1.00000</td>\n",
       "    </tr>\n",
       "    <tr>\n",
       "      <th>75%</th>\n",
       "      <td>0.825599</td>\n",
       "      <td>4.00000</td>\n",
       "      <td>117.192500</td>\n",
       "      <td>92.000000</td>\n",
       "      <td>1.00000</td>\n",
       "    </tr>\n",
       "    <tr>\n",
       "      <th>max</th>\n",
       "      <td>1.000000</td>\n",
       "      <td>9.00000</td>\n",
       "      <td>709.040000</td>\n",
       "      <td>119.000000</td>\n",
       "      <td>1.00000</td>\n",
       "    </tr>\n",
       "  </tbody>\n",
       "</table>\n",
       "</div>"
      ]
     },
     "execution_count": 9,
     "metadata": {},
     "output_type": "execute_result"
    }
   ],
   "execution_count": 9
  },
  {
   "metadata": {},
   "cell_type": "code",
   "outputs": [],
   "execution_count": null,
   "source": "",
   "id": "3b47eec089c1fd6"
  }
 ],
 "metadata": {
  "kernelspec": {
   "display_name": "Python 3",
   "language": "python",
   "name": "python3"
  },
  "language_info": {
   "codemirror_mode": {
    "name": "ipython",
    "version": 2
   },
   "file_extension": ".py",
   "mimetype": "text/x-python",
   "name": "python",
   "nbconvert_exporter": "python",
   "pygments_lexer": "ipython2",
   "version": "2.7.6"
  }
 },
 "nbformat": 4,
 "nbformat_minor": 5
}
